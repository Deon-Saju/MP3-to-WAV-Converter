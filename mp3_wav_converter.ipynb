{
  "nbformat": 4,
  "nbformat_minor": 0,
  "metadata": {
    "colab": {
      "provenance": []
    },
    "kernelspec": {
      "name": "python3",
      "display_name": "Python 3"
    },
    "language_info": {
      "name": "python"
    }
  },
  "cells": [
    {
      "cell_type": "code",
      "source": [
        "pip install pydub"
      ],
      "metadata": {
        "colab": {
          "base_uri": "https://localhost:8080/"
        },
        "id": "h-Q6x41ZHo4_",
        "outputId": "cc2fbfdb-1d1c-49dd-987a-ddc1fc4e393c"
      },
      "execution_count": 2,
      "outputs": [
        {
          "output_type": "stream",
          "name": "stdout",
          "text": [
            "Looking in indexes: https://pypi.org/simple, https://us-python.pkg.dev/colab-wheels/public/simple/\n",
            "Collecting pydub\n",
            "  Downloading pydub-0.25.1-py2.py3-none-any.whl (32 kB)\n",
            "Installing collected packages: pydub\n",
            "Successfully installed pydub-0.25.1\n"
          ]
        }
      ]
    },
    {
      "cell_type": "code",
      "execution_count": 3,
      "metadata": {
        "id": "Xiknz57PqN-9"
      },
      "outputs": [],
      "source": [
        "import os\n",
        "import sys\n",
        "from pydub import AudioSegment"
      ]
    },
    {
      "cell_type": "code",
      "source": [
        "audio = AudioSegment.from_mp3('/content/drive/MyDrive/Job/mp3_music/Kya Loge Tum Jaani.mp3')\n",
        "audio.export('/content/drive/MyDrive/Job/wav_music/Kya Loge Tum Jaani.wav', format = 'wav')"
      ],
      "metadata": {
        "colab": {
          "base_uri": "https://localhost:8080/"
        },
        "id": "Z4HXCnOxqmJn",
        "outputId": "cdbbc692-7e77-4df6-9ba1-f08eda882f59"
      },
      "execution_count": 4,
      "outputs": [
        {
          "output_type": "execute_result",
          "data": {
            "text/plain": [
              "<_io.BufferedRandom name='/content/drive/MyDrive/Job/wav_music/Kya Loge Tum Jaani.wav'>"
            ]
          },
          "metadata": {},
          "execution_count": 4
        }
      ]
    }
  ]
}